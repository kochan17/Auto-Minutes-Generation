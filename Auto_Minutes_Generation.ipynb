{
  "nbformat": 4,
  "nbformat_minor": 0,
  "metadata": {
    "colab": {
      "provenance": [],
      "authorship_tag": "ABX9TyOJsLOvA1/4B6/nwDR5IyuQ"
    },
    "kernelspec": {
      "name": "python3",
      "display_name": "Python 3"
    },
    "language_info": {
      "name": "python"
    }
  },
  "cells": [
    {
      "cell_type": "code",
      "execution_count": null,
      "metadata": {
        "colab": {
          "base_uri": "https://localhost:8080/"
        },
        "collapsed": true,
        "id": "6zBwREqGF_8c",
        "outputId": "da5166cf-9b11-4689-f10f-ae4721449b5d"
      },
      "outputs": [
        {
          "output_type": "stream",
          "name": "stdout",
          "text": [
            "Requirement already satisfied: moviepy in /usr/local/lib/python3.10/dist-packages (1.0.3)\n",
            "Collecting pydub\n",
            "  Downloading pydub-0.25.1-py2.py3-none-any.whl (32 kB)\n",
            "Collecting openai\n",
            "  Downloading openai-1.30.1-py3-none-any.whl (320 kB)\n",
            "\u001b[2K     \u001b[90m━━━━━━━━━━━━━━━━━━━━━━━━━━━━━━━━━━━━━━━━\u001b[0m \u001b[32m320.6/320.6 kB\u001b[0m \u001b[31m7.3 MB/s\u001b[0m eta \u001b[36m0:00:00\u001b[0m\n",
            "\u001b[?25hRequirement already satisfied: decorator<5.0,>=4.0.2 in /usr/local/lib/python3.10/dist-packages (from moviepy) (4.4.2)\n",
            "Requirement already satisfied: tqdm<5.0,>=4.11.2 in /usr/local/lib/python3.10/dist-packages (from moviepy) (4.66.4)\n",
            "Requirement already satisfied: requests<3.0,>=2.8.1 in /usr/local/lib/python3.10/dist-packages (from moviepy) (2.31.0)\n",
            "Requirement already satisfied: proglog<=1.0.0 in /usr/local/lib/python3.10/dist-packages (from moviepy) (0.1.10)\n",
            "Requirement already satisfied: numpy>=1.17.3 in /usr/local/lib/python3.10/dist-packages (from moviepy) (1.25.2)\n",
            "Requirement already satisfied: imageio<3.0,>=2.5 in /usr/local/lib/python3.10/dist-packages (from moviepy) (2.31.6)\n",
            "Requirement already satisfied: imageio-ffmpeg>=0.2.0 in /usr/local/lib/python3.10/dist-packages (from moviepy) (0.4.9)\n",
            "Requirement already satisfied: anyio<5,>=3.5.0 in /usr/local/lib/python3.10/dist-packages (from openai) (3.7.1)\n",
            "Requirement already satisfied: distro<2,>=1.7.0 in /usr/lib/python3/dist-packages (from openai) (1.7.0)\n",
            "Collecting httpx<1,>=0.23.0 (from openai)\n",
            "  Downloading httpx-0.27.0-py3-none-any.whl (75 kB)\n",
            "\u001b[2K     \u001b[90m━━━━━━━━━━━━━━━━━━━━━━━━━━━━━━━━━━━━━━━━\u001b[0m \u001b[32m75.6/75.6 kB\u001b[0m \u001b[31m5.7 MB/s\u001b[0m eta \u001b[36m0:00:00\u001b[0m\n",
            "\u001b[?25hRequirement already satisfied: pydantic<3,>=1.9.0 in /usr/local/lib/python3.10/dist-packages (from openai) (2.7.1)\n",
            "Requirement already satisfied: sniffio in /usr/local/lib/python3.10/dist-packages (from openai) (1.3.1)\n",
            "Requirement already satisfied: typing-extensions<5,>=4.7 in /usr/local/lib/python3.10/dist-packages (from openai) (4.11.0)\n",
            "Requirement already satisfied: idna>=2.8 in /usr/local/lib/python3.10/dist-packages (from anyio<5,>=3.5.0->openai) (3.7)\n",
            "Requirement already satisfied: exceptiongroup in /usr/local/lib/python3.10/dist-packages (from anyio<5,>=3.5.0->openai) (1.2.1)\n",
            "Requirement already satisfied: certifi in /usr/local/lib/python3.10/dist-packages (from httpx<1,>=0.23.0->openai) (2024.2.2)\n",
            "Collecting httpcore==1.* (from httpx<1,>=0.23.0->openai)\n",
            "  Downloading httpcore-1.0.5-py3-none-any.whl (77 kB)\n",
            "\u001b[2K     \u001b[90m━━━━━━━━━━━━━━━━━━━━━━━━━━━━━━━━━━━━━━━━\u001b[0m \u001b[32m77.9/77.9 kB\u001b[0m \u001b[31m4.6 MB/s\u001b[0m eta \u001b[36m0:00:00\u001b[0m\n",
            "\u001b[?25hCollecting h11<0.15,>=0.13 (from httpcore==1.*->httpx<1,>=0.23.0->openai)\n",
            "  Downloading h11-0.14.0-py3-none-any.whl (58 kB)\n",
            "\u001b[2K     \u001b[90m━━━━━━━━━━━━━━━━━━━━━━━━━━━━━━━━━━━━━━━━\u001b[0m \u001b[32m58.3/58.3 kB\u001b[0m \u001b[31m3.2 MB/s\u001b[0m eta \u001b[36m0:00:00\u001b[0m\n",
            "\u001b[?25hRequirement already satisfied: pillow<10.1.0,>=8.3.2 in /usr/local/lib/python3.10/dist-packages (from imageio<3.0,>=2.5->moviepy) (9.4.0)\n",
            "Requirement already satisfied: setuptools in /usr/local/lib/python3.10/dist-packages (from imageio-ffmpeg>=0.2.0->moviepy) (67.7.2)\n",
            "Requirement already satisfied: annotated-types>=0.4.0 in /usr/local/lib/python3.10/dist-packages (from pydantic<3,>=1.9.0->openai) (0.6.0)\n",
            "Requirement already satisfied: pydantic-core==2.18.2 in /usr/local/lib/python3.10/dist-packages (from pydantic<3,>=1.9.0->openai) (2.18.2)\n",
            "Requirement already satisfied: charset-normalizer<4,>=2 in /usr/local/lib/python3.10/dist-packages (from requests<3.0,>=2.8.1->moviepy) (3.3.2)\n",
            "Requirement already satisfied: urllib3<3,>=1.21.1 in /usr/local/lib/python3.10/dist-packages (from requests<3.0,>=2.8.1->moviepy) (2.0.7)\n",
            "Installing collected packages: pydub, h11, httpcore, httpx, openai\n",
            "Successfully installed h11-0.14.0 httpcore-1.0.5 httpx-0.27.0 openai-1.30.1 pydub-0.25.1\n",
            "Reading package lists... Done\n",
            "Building dependency tree... Done\n",
            "Reading state information... Done\n",
            "ffmpeg is already the newest version (7:4.4.2-0ubuntu0.22.04.1).\n",
            "0 upgraded, 0 newly installed, 0 to remove and 45 not upgraded.\n"
          ]
        }
      ],
      "source": [
        "!pip install moviepy pydub openai\n",
        "!apt-get install ffmpeg"
      ]
    },
    {
      "cell_type": "code",
      "source": [
        "from google.colab import drive\n",
        "drive.mount('/content/drive')"
      ],
      "metadata": {
        "colab": {
          "base_uri": "https://localhost:8080/"
        },
        "id": "gwgpxtOcGUwB",
        "outputId": "eb880339-378c-4abb-8df8-90aff101844f"
      },
      "execution_count": null,
      "outputs": [
        {
          "output_type": "stream",
          "name": "stdout",
          "text": [
            "Drive already mounted at /content/drive; to attempt to forcibly remount, call drive.mount(\"/content/drive\", force_remount=True).\n"
          ]
        }
      ]
    },
    {
      "cell_type": "code",
      "source": [
        "!ls /content/drive/MyDrive/test/yabaidouga.MOV"
      ],
      "metadata": {
        "colab": {
          "base_uri": "https://localhost:8080/"
        },
        "id": "zspMeg1sZYir",
        "outputId": "cb06fdd4-ee1c-4b67-b066-86a77a03f84a"
      },
      "execution_count": null,
      "outputs": [
        {
          "output_type": "stream",
          "name": "stdout",
          "text": [
            "/content/drive/MyDrive/test/yabaidouga.MOV\n"
          ]
        }
      ]
    },
    {
      "cell_type": "code",
      "source": [
        "import os\n",
        "\n",
        "mp4_file_path = '/content/drive/MyDrive/xxx/xxxxx.mp4'\n",
        "if os.path.exists(mp4_file_path):\n",
        "    print(\"File exists\")\n",
        "else:\n",
        "    print(\"File does not exist\")\n"
      ],
      "metadata": {
        "colab": {
          "base_uri": "https://localhost:8080/"
        },
        "id": "lHWReX4uGfCl",
        "outputId": "ca8ed17f-0fd9-406e-f8d2-f82fc99949a9"
      },
      "execution_count": null,
      "outputs": [
        {
          "output_type": "stream",
          "name": "stdout",
          "text": [
            "File exists\n"
          ]
        }
      ]
    },
    {
      "cell_type": "code",
      "source": [
        "import os\n",
        "\n",
        "mp4_file_path = os.path.normpath('/content/drive/MyDrive/test/xxxxx.mp4')\n",
        "mp3_file_path = os.path.normpath('/content/drive/MyDrive/test/output_audio.mp3')\n",
        "\n",
        "from moviepy.editor import VideoFileClip\n",
        "\n",
        "def extract_audio(mp4_file_path, mp3_file_path):\n",
        "    video = VideoFileClip(mp4_file_path)\n",
        "    audio = video.audio\n",
        "    audio.write_audiofile(mp3_file_path)\n",
        "\n",
        "extract_audio(mp4_file_path, mp3_file_path)\n",
        "\n"
      ],
      "metadata": {
        "colab": {
          "base_uri": "https://localhost:8080/"
        },
        "id": "dV2KuDGTaiEU",
        "outputId": "b405b431-26ea-496e-cac3-c0ba5ad0b12d"
      },
      "execution_count": null,
      "outputs": [
        {
          "output_type": "stream",
          "name": "stderr",
          "text": [
            "chunk:   3%|▎         | 27/951 [01:23<47:52,  3.11s/it, now=None]"
          ]
        },
        {
          "output_type": "stream",
          "name": "stdout",
          "text": [
            "MoviePy - Writing audio in /content/drive/MyDrive/test/output_audio.mp3\n"
          ]
        },
        {
          "output_type": "stream",
          "name": "stderr",
          "text": [
            "\n",
            "chunk:   0%|          | 0/951 [00:00<?, ?it/s, now=None]\u001b[A\n",
            "chunk:   9%|▉         | 88/951 [00:00<00:00, 877.39it/s, now=None]\u001b[A\n",
            "chunk:  19%|█▊        | 176/951 [00:00<00:00, 796.54it/s, now=None]\u001b[A\n",
            "chunk:  27%|██▋       | 257/951 [00:01<00:04, 155.93it/s, now=None]\u001b[A\n",
            "chunk:  32%|███▏      | 306/951 [00:01<00:03, 190.51it/s, now=None]\u001b[A\n",
            "chunk:  41%|████      | 388/951 [00:01<00:02, 272.82it/s, now=None]\u001b[A\n",
            "chunk:  47%|████▋     | 447/951 [00:01<00:01, 262.51it/s, now=None]\u001b[A\n",
            "chunk:  52%|█████▏    | 494/951 [00:02<00:02, 202.44it/s, now=None]\u001b[A\n",
            "chunk:  56%|█████▌    | 530/951 [00:02<00:01, 223.05it/s, now=None]\u001b[A\n",
            "chunk:  60%|█████▉    | 566/951 [00:02<00:01, 219.37it/s, now=None]\u001b[A\n",
            "chunk:  64%|██████▍   | 612/951 [00:02<00:01, 258.97it/s, now=None]\u001b[A\n",
            "chunk:  70%|██████▉   | 663/951 [00:02<00:01, 232.82it/s, now=None]\u001b[A\n",
            "chunk:  74%|███████▎  | 699/951 [00:02<00:00, 252.72it/s, now=None]\u001b[A\n",
            "chunk:  78%|███████▊  | 744/951 [00:02<00:00, 288.89it/s, now=None]\u001b[A\n",
            "chunk:  82%|████████▏ | 780/951 [00:03<00:00, 247.80it/s, now=None]\u001b[A\n",
            "chunk:  87%|████████▋ | 825/951 [00:03<00:00, 284.84it/s, now=None]\u001b[A\n",
            "chunk:  91%|█████████ | 867/951 [00:03<00:00, 250.33it/s, now=None]\u001b[A\n",
            "chunk:  96%|█████████▌| 911/951 [00:03<00:00, 286.97it/s, now=None]\u001b[A\n",
            "chunk:   3%|▎         | 27/951 [01:27<50:00,  3.25s/it, now=None]"
          ]
        },
        {
          "output_type": "stream",
          "name": "stdout",
          "text": [
            "MoviePy - Done.\n"
          ]
        }
      ]
    },
    {
      "cell_type": "code",
      "source": [
        "from pydub import AudioSegment\n",
        "import math\n",
        "import os\n",
        "\n",
        "def split_audio(file_path, size_mb=20):\n",
        "    audio = AudioSegment.from_file(file_path)\n",
        "    file_size = os.path.getsize(file_path)\n",
        "    num_parts = math.ceil(file_size / (size_mb * 1024 * 1024))\n",
        "    length = len(audio)\n",
        "    part_length = math.ceil(length / num_parts)\n",
        "    parts = []\n",
        "\n",
        "    for i in range(num_parts):\n",
        "        start = i * part_length\n",
        "        end = min((i + 1) * part_length, length)\n",
        "        part = audio[start:end]\n",
        "        part_file_path = f\"/content/drive/MyDrive/part_{i + 1}.mp3\"\n",
        "        part.export(part_file_path, format=\"mp3\")\n",
        "        parts.append(part_file_path)\n",
        "\n",
        "    return parts\n",
        "\n",
        "parts = split_audio('/content/drive/MyDrive/test/output_audio.mp3', 20)"
      ],
      "metadata": {
        "id": "SzKFtmNwcy-p"
      },
      "execution_count": null,
      "outputs": []
    },
    {
      "cell_type": "code",
      "source": [
        "!pip install --upgrade openai"
      ],
      "metadata": {
        "colab": {
          "base_uri": "https://localhost:8080/"
        },
        "collapsed": true,
        "id": "kKYegQ1birUl",
        "outputId": "db12744b-fdbe-4d3e-cbe1-84c47d447d1e"
      },
      "execution_count": null,
      "outputs": [
        {
          "output_type": "stream",
          "name": "stdout",
          "text": [
            "Requirement already satisfied: openai in /usr/local/lib/python3.10/dist-packages (1.30.1)\n",
            "Requirement already satisfied: anyio<5,>=3.5.0 in /usr/local/lib/python3.10/dist-packages (from openai) (3.7.1)\n",
            "Requirement already satisfied: distro<2,>=1.7.0 in /usr/lib/python3/dist-packages (from openai) (1.7.0)\n",
            "Requirement already satisfied: httpx<1,>=0.23.0 in /usr/local/lib/python3.10/dist-packages (from openai) (0.27.0)\n",
            "Requirement already satisfied: pydantic<3,>=1.9.0 in /usr/local/lib/python3.10/dist-packages (from openai) (2.7.1)\n",
            "Requirement already satisfied: sniffio in /usr/local/lib/python3.10/dist-packages (from openai) (1.3.1)\n",
            "Requirement already satisfied: tqdm>4 in /usr/local/lib/python3.10/dist-packages (from openai) (4.66.4)\n",
            "Requirement already satisfied: typing-extensions<5,>=4.7 in /usr/local/lib/python3.10/dist-packages (from openai) (4.11.0)\n",
            "Requirement already satisfied: idna>=2.8 in /usr/local/lib/python3.10/dist-packages (from anyio<5,>=3.5.0->openai) (3.7)\n",
            "Requirement already satisfied: exceptiongroup in /usr/local/lib/python3.10/dist-packages (from anyio<5,>=3.5.0->openai) (1.2.1)\n",
            "Requirement already satisfied: certifi in /usr/local/lib/python3.10/dist-packages (from httpx<1,>=0.23.0->openai) (2024.2.2)\n",
            "Requirement already satisfied: httpcore==1.* in /usr/local/lib/python3.10/dist-packages (from httpx<1,>=0.23.0->openai) (1.0.5)\n",
            "Requirement already satisfied: h11<0.15,>=0.13 in /usr/local/lib/python3.10/dist-packages (from httpcore==1.*->httpx<1,>=0.23.0->openai) (0.14.0)\n",
            "Requirement already satisfied: annotated-types>=0.4.0 in /usr/local/lib/python3.10/dist-packages (from pydantic<3,>=1.9.0->openai) (0.6.0)\n",
            "Requirement already satisfied: pydantic-core==2.18.2 in /usr/local/lib/python3.10/dist-packages (from pydantic<3,>=1.9.0->openai) (2.18.2)\n"
          ]
        }
      ]
    },
    {
      "cell_type": "code",
      "source": [
        "from google.colab import drive\n",
        "drive.mount('/content/drive')"
      ],
      "metadata": {
        "colab": {
          "base_uri": "https://localhost:8080/"
        },
        "id": "hzM2A4Tsi1xE",
        "outputId": "109f88d2-ee98-4f41-fa08-8c09b4ea1fea"
      },
      "execution_count": null,
      "outputs": [
        {
          "output_type": "stream",
          "name": "stdout",
          "text": [
            "Drive already mounted at /content/drive; to attempt to forcibly remount, call drive.mount(\"/content/drive\", force_remount=True).\n"
          ]
        }
      ]
    },
    {
      "cell_type": "code",
      "source": [
        "import openai\n",
        "\n",
        "openai.api_key = \"sk-xxxxxxxxxxxxxxxxxxxxxxxxxxxxxxxxxxxxxx\"\n",
        "\n",
        "def transcribe_audio(file_path):\n",
        "    audio_file = open(file_path, \"rb\")\n",
        "    response = openai.audio.transcriptions.create(\n",
        "        model=\"whisper-1\",\n",
        "        file=audio_file,\n",
        "        language=\"ja\"  # 日本語の場合\n",
        "    )\n",
        "    return response\n",
        "\n",
        "def convert_to_text(file_paths):\n",
        "    with open(\"/content/drive/MyDrive/final_transcript.txt\", \"w\") as final_text_file:\n",
        "        for file_path in file_paths:\n",
        "            transcript = transcribe_audio(file_path)\n",
        "            final_text_file.write(str(transcript) + \"\\n\")  # 連結する前にtranscriptを文字列に変換\n",
        "\n",
        "convert_to_text(parts)"
      ],
      "metadata": {
        "id": "fj-5RD5Me8ju"
      },
      "execution_count": null,
      "outputs": []
    },
    {
      "cell_type": "code",
      "source": [
        "import openai\n",
        "\n",
        "openai.api_key = \"sk-xxxxxxxxxxxxxxxxxxxxxxxxxxxxxxxxxxxxxx\"\n",
        "\n",
        "def summarize_text(text):\n",
        "    response = openai.chat.completions.create(\n",
        "        model=\"gpt-4o\",\n",
        "        messages=[\n",
        "            {\"role\": \"system\", \"content\": \"あなたはプロの外資系コンサルタントとして、議事録を作成してください。\"},\n",
        "            {\"role\": \"user\", \"content\": text}\n",
        "        ]\n",
        "    )\n",
        "    return response.choices[0].message.content\n",
        "\n",
        "with open(\"/content/drive/MyDrive/final_transcript.txt\", \"r\") as file:\n",
        "    full_text = file.read()\n",
        "\n",
        "summary_text = summarize_text(full_text)\n",
        "print(summary_text)\n"
      ],
      "metadata": {
        "colab": {
          "base_uri": "https://localhost:8080/"
        },
        "id": "bPUA3l40l79p",
        "outputId": "a77d4f55-1cc2-4199-c52d-14a0a6019e24"
      },
      "execution_count": null,
      "outputs": [
        {
          "output_type": "stream",
          "name": "stdout",
          "text": [
            "議事録：\n",
            "\n",
            "1. 発言内容の要約：\n",
            "   - ある男性が好きな役について話述しています。\n",
            "   - 彼は劇とそれ以外の生活をきちんと区別している。\n",
            "   - 元商婦の妻との二人の人間模様が、中国の歴史の変化と一緒に描かれていることを強調している。\n",
            "   - ストーリーは非常に重く、特に1920年代の役者になる過程での虐待シーンが多く描かれている。\n",
            "\n",
            "2. 主なポイント：\n",
            "   - 劇と私生活の区別について\n",
            "   - 元商婦の妻との関係\n",
            "   - 中国の歴史との関連性\n",
            "   - 虐待シーンの頻繁な描写\n",
            "\n",
            "3. 特記事項：\n",
            "   - 発言者の感情として、物語が非常に重いと感じていることが強調されています。\n",
            "   - 具体的な例として、1920年代の役者になる過程での虐待の話があります。\n",
            "\n",
            "この議事録は、発言内容を簡潔にまとめ、主要なポイントを明確に示すことを目的としています。\n"
          ]
        }
      ]
    }
  ]
}